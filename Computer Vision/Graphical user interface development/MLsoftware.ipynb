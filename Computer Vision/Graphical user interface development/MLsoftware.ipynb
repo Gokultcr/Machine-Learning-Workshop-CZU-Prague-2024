{
 "cells": [
  {
   "cell_type": "markdown",
   "id": "55fc983e-8968-4833-93e7-299e3b4d3dfc",
   "metadata": {},
   "source": [
    "# 🌳 Tree Species Classification: Graphical User Interface (GUI) 🌳\n"
   ]
  },
  {
   "cell_type": "markdown",
   "id": "c7205a2e-6f03-4694-9a1f-8d9391be02f7",
   "metadata": {},
   "source": [
    "\n",
    "<font color='darkblue'>\n",
    "\n",
    "### **Introduction:**\n",
    ">\n",
    "\r\n",
    "Welcome to an exciting journey into the world of Computer Vision! In this GitHub project, we'llcreate a GUI for the Species classification Task, later we will convert this into a standalone software (windows /.exe)."
   ]
  },
  {
   "cell_type": "markdown",
   "id": "4bccd70b-8044-4967-a4a6-08454937d5a1",
   "metadata": {},
   "source": [
    "\n",
    "<font color='darkblue'>\n",
    "\n",
    "**Overview:**\n",
    "\n",
    "In this Task we are considering Two algorithms, Support Vector Machines (SVM) and Decision Tree."
   ]
  },
  {
   "cell_type": "markdown",
   "id": "e0dc62b1-428c-4c54-ba0d-787a1748a52e",
   "metadata": {},
   "source": [
    "\n",
    "<font color='darkblue'>\n",
    "\n",
    "**Key Features:**\n",
    "\n",
    "🔍 ***Image Analysis:***  Dive deep into the world of image analysis to extract meaningful features from bark images.\n",
    "\n",
    "🔧 ***SVM Classifier and Decision Trees:***  Employ Support Vector Machines and Decision Trees to classify tree species with high accuracy and efficiency.\n",
    "\n",
    "🧠 ***GLCM Feature Extractor:***  Utilize GLCM (Grey-level Co-occurrence Matrix) to automatically learn relevant features from raw image data.\n"
   ]
  },
  {
   "cell_type": "markdown",
   "id": "5d441cd7-579b-4d2c-80d5-26e24dec8e1a",
   "metadata": {},
   "source": [
    "\n",
    "<font color='red'>\n",
    "\n",
    "### **Ready to get started ?:**"
   ]
  },
  {
   "cell_type": "markdown",
   "id": "8e2842a6-f568-482e-889a-7f74d6b851e5",
   "metadata": {},
   "source": [
    "## Import libraries"
   ]
  },
  {
   "cell_type": "code",
   "execution_count": 1,
   "id": "bb97301a-e40a-471e-ada4-a159075ad820",
   "metadata": {},
   "outputs": [],
   "source": [
    "import os\n",
    "import cv2\n",
    "import tkinter as tk\n",
    "from PIL import Image, ImageTk \n",
    "from tkinter import ttk, filedialog, messagebox, Menu\n",
    "from sklearn.tree import DecisionTreeClassifier\n",
    "from sklearn.svm import SVC\n",
    "from sklearn.metrics import accuracy_score, precision_score, recall_score, f1_score, classification_report, confusion_matrix\n",
    "import numpy as np\n",
    "from skimage.color import rgb2gray\n",
    "import matplotlib.pyplot as plt\n",
    "import seaborn as sns\n",
    "from matplotlib.backends.backend_tkagg import FigureCanvasTkAgg\n",
    "from sklearn.model_selection import train_test_split\n",
    "from sklearn.preprocessing import StandardScaler\n",
    "import warnings\n",
    "import time"
   ]
  },
  {
   "cell_type": "markdown",
   "id": "3281df70-3f5d-4f19-9745-1af8eead910f",
   "metadata": {},
   "source": [
    "<font color='darkblue'>\n",
    "\n",
    "#### **Detailed Overview of Imported Libraries:**\n",
    ">\n",
    "\n",
    "\n",
    "1. **os**\n",
    "   - *Purpose*: File and Directory Operations\n",
    "   - *Description*: Facilitates seamless interaction with the file system, enabling efficient file and directory manipulati\n",
    "on.\n",
    "\n",
    "2. **SVC from sklearn.svm**\n",
    "   - *Purpose*: Support Vector Machines (SVMs)\n",
    "   - *Description*: Empowers the implementation of SVM-based classification algorithms, renowned for their effectiveness in handling complex datasets.\n",
    "\n",
    "3. **accuracy_score, precision_score, recall_score, f1_score, classification_report from sklearn.metrics**\n",
    "   - *Purpose*: Evaluation of Classification Performance\n",
    "   - *Description*: Offers a comprehensive suite of metrics for assessing the performance of classification models, ensuring robust evaluation and validation.\n",
    "\n",
    "4. **numpy**\n",
    "   - *Purpose*: Numerical Computations\n",
    "   - *Description*: Provides essential functionalities for numerical operations, array manipulation, and mathematical computations, serving as the backbone for data manipulation in Python.\n",
    "\n",
    "5. **Sequential, Conv2D, MaxPooling2D, Flatten from tensorflow.keras.layers**\n",
    "   - *Purpose*: Defining Convolutional Neural Networks (CNN) Architecture\n",
    "   - *Description*: Enables the construction of CNN architectures by providing essential layers for convolution, pooling, and flattening, facilitating effective feature extraction from images.\n",
    "\n",
    "6. **img_to_array from tensorflow.keras.preprocessing.image**\n",
    "   - *Purpose*: Converting Images to Arrays\n",
    "   - *Description*: Transforms image data into numerical arrays, a prerequisite for processing images within neural network frameworks, ensuring seamless integration of image data into machine learning pipelines.\n",
    "\n",
    "7. **train_test_split from sklearn.model_selection**\n",
    "   - *Purpose*: Splitting Data into Training and Testing Sets\n",
    "   - *Description*: Facilitates the partitioning of datasets into training and testing subsets, crucial for model training, validation, and evaluation, ensuring robustness and generalization.\n",
    "\n",
    "8. **cv2**\n",
    "   - *Purpose*: OpenCV (Open Source Computer Vision Library)\n",
    "   - *Description*: Provides a rich set of functionalities for computer vision tasks, including image processing, object detection, and feature extraction, empowering the development of sophisticated co\n",
    "\n",
    "9. **tkinter**\n",
    "   - *Purpose*:  a standard Python interface to the Tk GUI toolkit.\n",
    "   - *Description*: It allows to create graphical user interfaces (GUIs) for your Python applications.\n",
    "\n",
    "10. **FigureCanvasTkAgg**\n",
    "    - *Purpose*:  The FigureCanvasTkAgg class is used for embedding Matplotlib figures in Tkinter GUI applications.\n",
    "    - *Description*:  It allows you to display Matplotlib figures (plots) within Tkinter windows or frames. \n",
    "\n",
    "11. **StandardScaler**\n",
    "    - *Purpose*:  Standardizing features by removing the mean and scaling to unit variance.\n",
    "    - *Description*:  Standardization is a common preprocessing step in machine learning that ensures all features have the same scale. "
   ]
  },
  {
   "cell_type": "markdown",
   "id": "1134364b-d685-4a5b-b839-de1d90bfc85d",
   "metadata": {},
   "source": [
    "## Global Variables Initialization"
   ]
  },
  {
   "cell_type": "code",
   "execution_count": 2,
   "id": "6a065bfd-e470-438f-9ddf-ccb66e66afe2",
   "metadata": {},
   "outputs": [],
   "source": [
    "selected_algorithm = None\n",
    "data_path = None\n",
    "ml_model = None\n",
    "ml_pred = None\n",
    "confusion_matrix_canvas = None\n",
    "label_mapping = {}\n",
    "image_names_test = []\n",
    "labels = []"
   ]
  },
  {
   "cell_type": "markdown",
   "id": "36d38e7a-6d82-469d-afbd-4d3c44d5a39f",
   "metadata": {},
   "source": [
    "<font color='darkblue'>\n",
    "\n",
    "#### **Detailed Overview of Global Variables:**\n",
    ">\n",
    "\n",
    "Defining global variables for enhanced global accessibility.\n",
    "\n"
   ]
  },
  {
   "cell_type": "markdown",
   "id": "2f8ae636-efd4-43a4-b58d-43299ebfdf7a",
   "metadata": {},
   "source": [
    "## Function Definitions"
   ]
  },
  {
   "cell_type": "markdown",
   "id": "6700c158-15c5-44d7-8784-efe3a39e09d7",
   "metadata": {},
   "source": [
    "#### To Browse/open desired dataset"
   ]
  },
  {
   "cell_type": "code",
   "execution_count": 3,
   "id": "f8808ea6-d45c-48d4-ac48-0333d89d9e04",
   "metadata": {},
   "outputs": [],
   "source": [
    "def browse_folder():\n",
    "    global data_path\n",
    "    data_path = filedialog.askdirectory()"
   ]
  },
  {
   "cell_type": "markdown",
   "id": "33711481-0c01-4a24-91dd-992fcd99087e",
   "metadata": {},
   "source": [
    "\n",
    "\n",
    "<font color='darkblue'>\n",
    "\n",
    "#### **Explanation of browse_folder Function:**\n",
    "\n",
    "The function `browse_folder()` enables users to browse and select a folder directory through a file dialog. Here's a breakdown of its functionality:\n",
    "\n",
    "- **Global Variable Declaration**: \n",
    "  - The keyword `global` indicates that the variable `data_path` is declared as global within the function's scope. This allows the function to modify the global variable `data_path`.\n",
    "\n",
    "- **File Dialog Prompt**:\n",
    "  - `filedialog.askdirectory()` opens a file dialog window prompting the user to select a directory. This dialog allows users to navigate through their file system and choose a folder.\n",
    "\n",
    "- **Directory Selection**:\n",
    "  - Once the user selects a directory, the path to that directory is stored in the global variable `data_path`. This allows other parts of the code to access the selected directory path for further processing.\n",
    "\n",
    "This function facilitates the selection of a directory path within the file system, enabling subsequent operations to be performed on files within the chosen directory.\n"
   ]
  },
  {
   "cell_type": "markdown",
   "id": "7187a734-4914-49fa-a80f-50b96e348b20",
   "metadata": {},
   "source": [
    "#### Corresponding function for loading image formats"
   ]
  },
  {
   "cell_type": "code",
   "execution_count": 4,
   "id": "caf039a4-8012-4834-8a76-d4322d70796f",
   "metadata": {},
   "outputs": [],
   "source": [
    "def load_image():\n",
    "    file_path = filedialog.askopenfilename(title=\"Select an image file\", filetypes=[(\"Image files\", \"*.png;*.jpg;*.jpeg\")])\n",
    "    return Image.open(file_path) if file_path else None"
   ]
  },
  {
   "cell_type": "markdown",
   "id": "50413878-6a7f-4a5f-87db-c1509fccb7a7",
   "metadata": {},
   "source": [
    "\n",
    "\n",
    "<font color='darkblue'>\n",
    "\n",
    "#### **Explanation of load_image Function:**\n",
    "\n",
    "The function `load_image()` facilitates the selection and loading of an image file through a file dialog. Below is a step-by-step breakdown of its functionality:\n",
    "\n",
    "- **File Dialog Prompt**:\n",
    "  - Upon calling the function, a file dialog window titled \"Select an image file\" is displayed using `filedialog.askopenfilename()`. This dialog allows users to choose an image file from their file system.\n",
    "\n",
    "- **File Types Filter**:\n",
    "  - The `filetypes` argument specifies the types of files that are displayed in the file dialog. In this case, only image files with extensions `.png`, `.jpg`, and `.jpeg` are allowed for selection.\n",
    "\n",
    "- **Image File Selection**:\n",
    "  - Once the user selects an image file and clicks \"Open\" in the file dialog, the file path of the selected image is stored in the local variable `file_path`.\n",
    "\n",
    "- **Image Loading**:\n",
    "  - If a file path is obtained (i.e., the user selects a file), the function uses the `Image.open()` method from the Python Imaging Library (PIL) to open and load the image file specified by the `file_path`.\n",
    "\n",
    "- **Return Statement**:\n",
    "  - The function returns the loaded image object (`Image.open(file_path)`) if a file path is obtained, indicating a successful selection. If no file path is obtained (e.g., if the user cancels the file dialog), the function returns `None`.\n",
    "\n",
    "This function streamlines the process of loading image files, providing users with a convenient way to select and access images for further processing.\n"
   ]
  },
  {
   "cell_type": "markdown",
   "id": "5be7a150-d14c-4ce3-8242-b5f01bf93dae",
   "metadata": {},
   "source": [
    "#### Extract the features and lables using GLCM"
   ]
  },
  {
   "cell_type": "code",
   "execution_count": 5,
   "id": "77dcc51b-65f6-4131-a66a-0dc0ecb7f506",
   "metadata": {},
   "outputs": [],
   "source": [
    "def load_and_extract_features(data_path):\n",
    "    features_glcm = []\n",
    "    labels = []\n",
    "    image_names = []\n",
    "    for category in os.listdir(data_path):\n",
    "        category_path = os.path.join(data_path, category)\n",
    "        for img_name in os.listdir(category_path):\n",
    "            img_path = os.path.join(category_path, img_name)\n",
    "            if img_path.lower().endswith(('.png', '.jpg', '.jpeg')):\n",
    "                img = cv2.imread(img_path)\n",
    "                if img is not None:\n",
    "                    img = cv2.resize(img, (150, 150))\n",
    "                    img_gray = cv2.cvtColor(img, cv2.COLOR_BGR2GRAY)\n",
    "                    glcms = [cv2.calcHist([img_gray], [0], None, [256], [0, 256], accumulate=False) for _ in [0, 45, 90, 135]]\n",
    "                    glcms = [glcm / float(glcm.sum()) for glcm in glcms]\n",
    "                    features = np.array([\n",
    "                        np.sum([glcm * np.square(np.arange(256) - np.mean(glcm)) for glcm in glcms]),\n",
    "                        np.sum([glcm * np.abs(np.arange(256) - np.mean(glcm)) for glcm in glcms]),\n",
    "                        np.sum([glcm / (1 + np.square(np.arange(256) - np.mean(glcm))) for glcm in glcms]),\n",
    "                        np.sum([np.square(glcm) for glcm in glcms]),\n",
    "                        np.sum([(np.arange(256) - np.mean(glcm)) * (np.arange(256) - np.mean(glcm)) * glcm / (np.sqrt(np.var(glcm)) * np.sqrt(np.var(glcm))) for glcm in glcms])\n",
    "                    ])\n",
    "                    features_glcm.append(features)\n",
    "                    labels.append(category)\n",
    "                    image_names.append(img_name)\n",
    "    return np.array(features_glcm), np.array(labels), np.array(image_names)"
   ]
  },
  {
   "cell_type": "markdown",
   "id": "a11d5e8d-f45b-41e4-bba1-f3b1302a6a14",
   "metadata": {},
   "source": [
    "\n",
    "<font color='darkblue'>\n",
    "\n",
    "#### **Explanation of load_and_extract_features Function:**\n",
    ">\n",
    "\n",
    "The provided function `load_and_extract_features(data_path)` serves to extract features from images using the Grey-level Cooccurrence Matrix (GLCM) method. Let's jump into its workings:\n",
    "\n",
    "- **Input**: The function takes the path to the directory containing image data as `data_path`.\n",
    "\n",
    "- **Processing**:\n",
    "  - It initializes empty lists to store extracted features (`features_glcm`), corresponding labels (`labels`), and image names (`image_names`).\n",
    "  - Iterates through each category (sub-directory) in the given data path.\n",
    "  - For each image in the category, it reads the image using OpenCV (`cv2.imread()`), resizes it to a uniform size of 150x150 pixels, and converts it to grayscale (`cv2.cvtColor()`).\n",
    "  - GLCM is calculated for four directions (0, 45, 90, 135 degrees) using `cv2.calcHist()`, resulting in a list of GLCMs.\n",
    "  - Various statistical features are computed from these GLCMs, including contrast, correlation, energy, and homogeneity.\n",
    "  - These computed features are stored in the `features_glcm` list along with their corresponding category labels and image names.\n",
    "\n",
    "- **Output**: Finally, the function returns three numpy arrays containing the extracted features, labels, and image names.\n",
    "\n",
    "This function effectively automates the process of feature extraction from raw image data, facilitating subsequent classification tasks.\n"
   ]
  },
  {
   "cell_type": "markdown",
   "id": "733ca21c-4157-45a4-afbb-591de72f3ee0",
   "metadata": {},
   "source": [
    "#### Create function for selected algorithm (algorithm options)"
   ]
  },
  {
   "cell_type": "code",
   "execution_count": 6,
   "id": "36b3703d-a266-4787-b4bb-82f0b15ec8b6",
   "metadata": {},
   "outputs": [],
   "source": [
    "def create_ml_model(selected_algorithm):\n",
    "    if selected_algorithm == \"SVM\":\n",
    "        return SVC(kernel=\"linear\", C=1.0)\n",
    "    elif selected_algorithm == \"Decision Tree\":\n",
    "        return DecisionTreeClassifier(random_state=42)"
   ]
  },
  {
   "cell_type": "markdown",
   "id": "79608f86-d584-4ce5-a7b1-392d8d5a4626",
   "metadata": {},
   "source": [
    "\n",
    "<font color='darkblue'>\n",
    "\n",
    "#### **Explanation of create_ml_model Function:**\n",
    ">\n",
    "\r\n",
    "\r\n",
    "The function `create_ml_model(selected_algorithm)` is designed to create a machine learning model based on the algorithm selected by the user. Here's a detailed breakdown of its functionality:\r\n",
    "\r\n",
    "- **Algorithm Selection**:\r\n",
    "  - The function takes `selected_algorithm` as a parameter, which represents the chosen machine learning algorithm specified by the user.\r\n",
    "\r\n",
    "- **Model Creation**:\r\n",
    "  - If the `selected_algorithm` is \"SVM\" (Support Vector Machine), the function returns an SVM classifier initialized with a linear kernel and regularization parameter `C=1.0` using `SVC(kernel=\"linear\", C=1.0)`.\r\n",
    "  \r\n",
    "  - If the `selected_algorithm` is \"Decision Tree\", the function returns a Decision Tree classifier initialized with a random state of 42 using `DecisionTreeClassifier(random_state=42)`.\r\n",
    "  \r\n",
    "- **Conditional Statements**:\r\n",
    "  - The function employs conditional statements (`if-elif`) to determine which model to create based on the `selected_algorithm`.\r\n",
    "\r\n",
    "- **Return Statement**:\r\n",
    "  - The function returns the instantiated machine learning model based on the selected algorithm.\r\n",
    "\r\n",
    "This function provides flexibility by allowing users to specify the algorithm they want to use for training their machine learning model, simplifying the process of model creation and selection.\r\n"
   ]
  },
  {
   "cell_type": "code",
   "execution_count": 7,
   "id": "fc27ac4a-2a03-43c5-b52a-8ba09ac3cee8",
   "metadata": {},
   "outputs": [],
   "source": [
    "def classify_images():\n",
    "    global data_path, ml_model, ml_pred, confusion_matrix_canvas, label_mapping, image_names_test, labels\n",
    "    if not data_path:\n",
    "        messagebox.showwarning(\"Warning\", \"Please select a data path.\")\n",
    "        return\n",
    "    if not selected_algorithm:\n",
    "        messagebox.showwarning(\"Warning\", \"Please select an algorithm.\")\n",
    "        return\n",
    "    features_glcm, labels, image_names = load_and_extract_features(data_path)\n",
    "    if np.isnan(features_glcm).any() or np.isinf(features_glcm).any():\n",
    "        messagebox.showwarning(\"Warning\", \"Input data contains NaN or infinite values. Please preprocess the data.\")\n",
    "        return\n",
    "    ml_model = create_ml_model(selected_algorithm)\n",
    "    time.sleep(2)\n",
    "    x_train, x_test, y_train, y_test, _, image_names_test = train_test_split(features_glcm, labels, image_names, test_size=0.2, train_size=0.8, random_state=42)\n",
    "    label_mapping = {label: index for index, label in enumerate(np.unique(labels))}\n",
    "    y_train = np.array([label_mapping[label] for label in y_train])\n",
    "    y_test = np.array([label_mapping[label] for label in y_test])\n",
    "    if np.isnan(x_train).any() or np.isinf(x_train).any():\n",
    "        messagebox.showwarning(\"Warning\", \"Training data contains NaN or infinite values. Please preprocess the data.\")\n",
    "        return\n",
    "    x_train_scaled = StandardScaler().fit_transform(x_train)\n",
    "    x_test_scaled = StandardScaler().fit_transform(x_test)\n",
    "    ml_model.fit(x_train_scaled, y_train)\n",
    "    ml_pred = ml_model.predict(x_test_scaled)\n",
    "    accuracy = accuracy_score(y_test, ml_pred)\n",
    "    precision = precision_score(y_test, ml_pred, average='weighted')\n",
    "    recall = recall_score(y_test, ml_pred, average='weighted')\n",
    "    f1 = f1_score(y_test, ml_pred, average='weighted')\n",
    "    messagebox.showinfo(\"Classification Results\", f\"Accuracy: {accuracy}\\nPrecision: {precision}\\nRecall: {recall}\\nF1-score: {f1}\")\n",
    "    matrix = confusion_matrix(y_test, ml_pred)\n",
    "    plt.figure(figsize=(6, 6))\n",
    "    ax = sns.heatmap(matrix, annot=True, fmt=\"d\", cmap=\"Blues\")\n",
    "    ax.set_title('Confusion Matrix')\n",
    "    ax.set_xlabel('Predicted Label')\n",
    "    ax.set_ylabel('True Label')\n",
    "    if confusion_matrix_canvas:\n",
    "        confusion_matrix_canvas.get_tk_widget().destroy()\n",
    "    confusion_matrix_canvas = FigureCanvasTkAgg(ax.figure, master=root)\n",
    "    confusion_matrix_canvas.draw()\n",
    "    confusion_matrix_canvas.get_tk_widget().pack()"
   ]
  },
  {
   "cell_type": "markdown",
   "id": "180aa3d7-8466-4bda-b40f-b7f720c7bcea",
   "metadata": {},
   "source": [
    "\n",
    "<font color='darkblue'>\n",
    "\n",
    "#### **Explanation of classify_images Function:**\n",
    ">\n",
    "\n",
    "The function `classify_images()` is responsible for performing image classification tasks based on extracted features using machine learning algorithms. Let's break down its functionality:\n",
    "\n",
    "- **Global Variable Initialization**:\n",
    "  - Several global variables related to data path, machine learning model, predictions, confusion matrix visualization, label mapping, and image names are declared. This allows for the sharing of these variables across different parts of the code.\n",
    "\n",
    "- **Input Validation**:\n",
    "  - The function checks if essential parameters like `data_path` and `selected_algorithm` are provided. If not, it displays a warning message using `messagebox.showwarning()` and exits the function.\n",
    "\n",
    "- **Feature Extraction**:\n",
    "  - Image features are extracted using the `load_and_extract_features()` function, returning features (`features_glcm`), corresponding labels, and image names.\n",
    "\n",
    "- **Data Preprocessing**:\n",
    "  - The extracted features are checked for NaN (Not a Number) or infinite values. If any are found, a warning message is displayed, and the function exits.\n",
    "\n",
    "- **Model Initialization and Training**:\n",
    "  - A machine learning model is created based on the selected algorithm using the `create_ml_model()` function. Training and testing data are split using `train_test_split()`. Label mapping is performed to convert categorical labels into numerical representations.\n",
    "\n",
    "- **Data Scaling**:\n",
    "  - The training and testing data are scaled using `StandardScaler()` to ensure uniformity and improve model performance.\n",
    "\n",
    "- **Model Training and Evaluation**:\n",
    "  - The machine learning model is trained on the scaled training data (`x_train_scaled`) using `fit()`. Predictions are made on the scaled testing data (`x_test_scaled`) using `predict()`.\n",
    "  - Classification metrics such as accuracy, precision, recall, and F1-score are computed using functions like `accuracy_score()`, `precision_score()`, `recall_score()`, and `f1_score()`.\n",
    "  - A message box displays the classification results containing these metrics.\n",
    "\n",
    "- **Confusion Matrix Visualization**:\n",
    "  - A confusion matrix is computed using `confusion_matrix()` and visualized as a heatmap using `sns.heatmap()`.\n",
    "  - The confusion matrix visualization is updated and displayed using `FigureCanvasTkAgg` for interactive plotting.\n",
    "\n",
    "This function encapsulates the entire image classification process, from data loading and preprocessing to model training, evaluation, and result visualization.\n"
   ]
  },
  {
   "cell_type": "markdown",
   "id": "e1f49ae4-9947-4948-89eb-3cadfa76589e",
   "metadata": {},
   "source": [
    "#### Define Function to select algorithm"
   ]
  },
  {
   "cell_type": "code",
   "execution_count": 8,
   "id": "418caa62-e2cb-440d-a191-33b16adfb373",
   "metadata": {},
   "outputs": [],
   "source": [
    "def set_algorithm(algorithm):\n",
    "    global selected_algorithm\n",
    "    if algorithm == \"Select Algorithm\":\n",
    "        messagebox.showwarning(\"Warning\", \"Please select an algorithm.\")\n",
    "        return\n",
    "    selected_algorithm = algorithm"
   ]
  },
  {
   "cell_type": "markdown",
   "id": "03f7475e-b260-4c07-9113-d6b5a533fd2b",
   "metadata": {},
   "source": [
    "<font color='darkblue'>\n",
    "\n",
    "#### **Explanation of set_algorithm Function:**\n",
    ">\n",
    "\n",
    "The function `set_algorithm(algorithm)` is designed to set the selected machine learning algorithm for image classification. Let's explore its functionality:\n",
    "\n",
    "- **Global Variable Declaration**:\n",
    "  - The `selected_algorithm` variable is declared as global within the function's scope. This allows the function to modify the global variable `selected_algorithm`, ensuring its accessibility and persistence across the codebase.\n",
    "\n",
    "- **Algorithm Selection**:\n",
    "  - The function takes `algorithm` as a parameter, representing the selected machine learning algorithm.\n",
    "  \n",
    "- **Input Validation**:\n",
    "  - It checks whether a valid algorithm is selected. If the `algorithm` parameter is \"Select Algorithm\", indicating that no algorithm is chosen, a warning message is displayed using `messagebox.showwarning()` and the function exits.\n",
    "  \n",
    "- **Setting the Algorithm**:\n",
    "  - If a valid algorithm is selected, the `selected_algorithm` variable is updated to the chosen algorithm.\n",
    "  \n",
    "- **Return Statement**:\n",
    "  - The function returns `None` after setting the algorithm. \n",
    "\n",
    "This function facilitates the selection and setting of a machine learning algorithm for subsequent use in image classification tasks.\n"
   ]
  },
  {
   "cell_type": "markdown",
   "id": "dd1fc972-6515-423a-a52c-62ac3a7451bb",
   "metadata": {},
   "source": [
    "#### About function:\n",
    "A brief overview of the GUI/software and developers"
   ]
  },
  {
   "cell_type": "code",
   "execution_count": 9,
   "id": "8ea1b562-ee2a-4921-a052-816e9a935741",
   "metadata": {},
   "outputs": [],
   "source": [
    "def display_about():\n",
    "    about_text = \"\"\"\n",
    "Example Classifier 1.0\n",
    "\n",
    "===================================\n",
    "\n",
    "🚀 Welcome to Example Classifier 1.0! 🚀\n",
    "\n",
    "This application is an example program for demonstrating python software creation through image classification.\n",
    "\n",
    "🌟 Features:\n",
    "\n",
    "- Load and analyze images\n",
    "\n",
    "- Extract features using Gray-level co-occurrence matrix (GLCM)\n",
    "\n",
    "- Harness the power of Support Vector Machine (SVM), and Decision Trees\n",
    "  \n",
    "- Algorithms with Standard Parameter values \n",
    "\n",
    "- Visualize results with interactive confusion matrices\n",
    "\n",
    "👨‍💻 Developed by:\n",
    "   - Gokul Kottilapurath Surendran\n",
    "   - Martin Mokros\n",
    "\n",
    "    [GitHub Repository](https://github.com/Gokultcr)\n",
    "\n",
    "📅 Date: 07-03-2024\n",
    "\n",
    "📌 Stay curious, and let the machine learning journey begin!\n",
    "\n",
    "===================================\n",
    "\"\"\"\n",
    "    messagebox.showinfo(\"About\", about_text)"
   ]
  },
  {
   "cell_type": "markdown",
   "id": "e46514aa-ff12-4ec2-9a88-0b60bc761bed",
   "metadata": {},
   "source": [
    "### Defining GUI using Tkinker"
   ]
  },
  {
   "cell_type": "code",
   "execution_count": 10,
   "id": "89fbc866-48d3-4fd9-a8e7-bd752e43728b",
   "metadata": {},
   "outputs": [
    {
     "data": {
      "image/png": "[encoded data removed]",
      "text/plain": [
       "<Figure size 600x580 with 2 Axes>"
      ]
     },
     "metadata": {},
     "output_type": "display_data"
    }
   ],
   "source": [
    "root = tk.Tk()\n",
    "root.title(\"Example Classifier 1.0\")\n",
    "root.geometry(\"800x600\")\n",
    "root.configure(bg=\"#B6B6B4\")\n",
    "\n",
    "icon_path = \"C:/Users/gokul/Downloads/logoml.ico\"\n",
    "root.iconbitmap(icon_path)\n",
    "\n",
    "menu = Menu(root)\n",
    "root.config(menu=menu)\n",
    "\n",
    "file_menu = Menu(menu, tearoff=0)\n",
    "menu.add_cascade(label=\"File\", menu=file_menu)\n",
    "file_menu.add_command(label=\"Open Data\", command=browse_folder)\n",
    "file_menu.add_separator()\n",
    "\n",
    "algorithm_menu = Menu(menu, tearoff=0)\n",
    "menu.add_cascade(label=\"Algorithms\", menu=algorithm_menu)\n",
    "algorithm_menu.add_command(label=\"Decision Tree\", command=lambda: set_algorithm(\"Decision Tree\"))\n",
    "svm_menu = Menu(algorithm_menu, tearoff=0)\n",
    "algorithm_menu.add_cascade(label=\"SVM\", menu=svm_menu)\n",
    "svm_menu.add_command(label=\"Linear\", command=lambda: set_algorithm(\"SVM\"))\n",
    "\n",
    "run_menu = Menu(menu, tearoff=0)\n",
    "menu.add_cascade(label=\"Run\", menu=run_menu)\n",
    "run_menu.add_command(label=\"Classify Images\", command=classify_images)\n",
    "\n",
    "algorithm_label = tk.Label(root, background=root.cget(\"bg\"))\n",
    "algorithm_label.pack_forget()\n",
    "\n",
    "svm_kernel_label = tk.Label(root, font=(\"Corbel\", 12, \"bold\"), background=root.cget(\"bg\"))\n",
    "svm_kernel_label.pack_forget()\n",
    "\n",
    "about_menu = Menu(menu, tearoff=0)\n",
    "menu.add_cascade(label=\"About\", menu=about_menu)\n",
    "about_menu.add_command(label=\"About this Application\", command=display_about)\n",
    "\n",
    "root.mainloop()\n"
   ]
  },
  {
   "cell_type": "markdown",
   "id": "1cca9b03-3313-4f6f-8e99-9de6fceb0131",
   "metadata": {},
   "source": [
    "<font color='darkblue'>\n",
    "\n",
    "#### **Explanation of GUI Configuration and Menu Setup:**\n",
    ">\n",
    "\n",
    "\r\n",
    "- **Root Configuration**:\r\n",
    "  - `root = tk.Tk()`: Creates the main window for the GUI application.\r\n",
    "  - `root.title(\"Example Classifier 1.0\")`: Sets the title of the window to \"Example Classifier 1.0\".\r\n",
    "  - `root.geometry(\"800x600\")`: Sets the initial size of the window to 800x600 pixels.\r\n",
    "  - `root.configure(bg=\"#B6B6B4\")`: Configures the background color of the window to a light gray shade.\r\n",
    "\r\n",
    "- **Icon Configuration**:\r\n",
    "  - The application icon is set using `root.iconbitmap(icon_path)`, specifying the file path to the icon file.\r\n",
    "\r\n",
    "- **Menu Setup**:\r\n",
    "  - A menu bar is created using `menu = Menu(root)`, and it's associated with the root window using `root.config(menu=menu)`.\r\n",
    "  - The menu bar includes options like \"File\", \"Algorithms\", \"Run\", and \"About\", each with submenus and associated commands.\r\n",
    "\r\n",
    "- **File Menu**:\r\n",
    "  - The \"File\" menu includes options like \"Open Data\" that triggers the `browse_folder` function when clicked.\r\n",
    "\r\n",
    "- **Algorithms Menu**:\r\n",
    "  - The \"Algorithms\" menu includes options for selecting machine learning algorithms such as \"Decision Tree\" and \"SVM\". Submenus are provided for specific settings of the SVM algorithm.\r\n",
    "\r\n",
    "- **Run Menu**:\r\n",
    "  - The \"Run\" menu includes an option for executing the image classification task via the `classify_images` function.\r\n",
    "\r\n",
    "- **Labels**:\r\n",
    "  - Two labels (`algorithm_label` and `svm_kernel_label`) are created but initially hidden (`pack_forget()`). These labels may be used for displaying algorithm-related information in the GUI.\r\n",
    "\r\n",
    "- **About Menu**:\r\n",
    "  - The \"About\" menu includes an option for displaying information about the application using the `display_about` function.\r\n",
    "\r\n",
    "- **Main Event Loop**:\r\n",
    "  - `root.mainloop()`: Starts the main event loop, allowing the GUI application to run and respond to user interactions.\r\n",
    "\r\n",
    "This code sets up the graphical user interface (GUI) for the application, including window configuration, menu setup, and event handling.\r\n",
    "\n"
   ]
  },
  {
   "cell_type": "markdown",
   "id": "ca8f54b3-018d-4f40-8475-754df1f322b0",
   "metadata": {},
   "source": [
    "## Meet the Developers\n",
    "\n",
    "- **Gokul Kottilapurath Surendran**  \n",
    "  - *Role:* PhD Scholar  \n",
    "  - *Email:* [ksg@fld.czu.cz](mailto:ksg@fld.czu.cz)  \n",
    "  - *GitHub:* [Gokul-tcr](https://github.com/Gokultcr)\n",
    "\n",
    "- **Dr. Martin Mokros**  \n",
    "  - *Role:* Supervisor  \n"
   ]
  }
 ],
 "metadata": {
  "kernelspec": {
   "display_name": "Python 3 (ipykernel)",
   "language": "python",
   "name": "python3"
  },
  "language_info": {
   "codemirror_mode": {
    "name": "ipython",
    "version": 3
   },
   "file_extension": ".py",
   "mimetype": "text/x-python",
   "name": "python",
   "nbconvert_exporter": "python",
   "pygments_lexer": "ipython3",
   "version": "3.11.8"
  }
 },
 "nbformat": 4,
 "nbformat_minor": 5
}
